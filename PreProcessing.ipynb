{
 "cells": [
  {
   "cell_type": "code",
   "execution_count": 1,
   "metadata": {},
   "outputs": [],
   "source": [
    "import numpy as np\n",
    "import pandas as pd\n",
    "import os\n",
    "from os import walk\n",
    "from sklearn import preprocessing"
   ]
  },
  {
   "cell_type": "code",
   "execution_count": 2,
   "metadata": {},
   "outputs": [
    {
     "name": "stdout",
     "output_type": "stream",
     "text": [
      "Appending csv_data/04/20130420.csv\n",
      "Appending csv_data/04/20130411.csv\n",
      "Appending csv_data/04/20130419.csv\n",
      "Appending csv_data/04/20130427.csv\n",
      "Appending csv_data/04/20130426.csv\n"
     ]
    }
   ],
   "source": [
    "file_list = []\n",
    "for (dir_path, dir_names, file_names) in walk('csv_data/'):\n",
    "    file_list.extend(os.path.join(dir_path, filename) for filename in file_names)\n",
    "\n",
    "df = pd.DataFrame()\n",
    "\n",
    "# column names of 24 features\n",
    "COLUMN_NAMES = ['duration', 'service', 'src_bytes', 'dest_bytes', 'count', 'same_srv_rate',\n",
    "                'serror_rate', 'srv_serror_rate', 'dst_host_count', 'dst_host_srv_count',\n",
    "                'dst_host_same_src_port_rate', 'dst_host_serror_rate', 'dst_host_srv_serror_rate',\n",
    "                'flag', 'ids_detection', 'malware_detection', 'ashula_detection', 'label', 'src_ip_add',\n",
    "                'src_port_num', 'dst_ip_add', 'dst_port_num', 'start_time', 'protocol']\n",
    "\n",
    "for file in file_list[0:5]:\n",
    "        # the python engine was used to support mixed data types\n",
    "        df = df.append(pd.read_csv(filepath_or_buffer=file, names=COLUMN_NAMES, engine='python'))\n",
    "        print('Appending {}'.format(file))"
   ]
  },
  {
   "cell_type": "code",
   "execution_count": 3,
   "metadata": {},
   "outputs": [
    {
     "name": "stdout",
     "output_type": "stream",
     "text": [
      "Current DataFrame shape: (778812, 24)\n",
      "DataFrame shape after NaN values removal: (778812, 24)\n"
     ]
    }
   ],
   "source": [
    "#Checking for NaN values\n",
    "print('Current DataFrame shape: {}'.format(df.shape))\n",
    "\n",
    "# drop rows with NaN values\n",
    "df[COLUMN_NAMES] = df[COLUMN_NAMES].dropna(axis=0, how='any')\n",
    "print('DataFrame shape after NaN values removal: {}'.format(df.shape))\n",
    "\n",
    "#  Replace string values to integers\n",
    "df['malware_detection'] = df['malware_detection'].apply(lambda malware_detection: 1 if malware_detection != '0' else 0)\n",
    "df['ashula_detection'] = df['ashula_detection'].apply(lambda ashula_detection: 1 if ashula_detection != '0' else 0)\n",
    "df['ids_detection'] = df['ids_detection'].apply(lambda ids_detection: 1 if ids_detection != '0' else 0)\n",
    "\n",
    "\n",
    "# replace -1 & -2 (attack) with 1, and 1 (no attack) with 0\n",
    "df['label'] = df['label'].apply(lambda label: 1 if label == -1 or label == -2 else 0)\n",
    "\n",
    "#  make time data continuous\n",
    "df['start_time'] = df['start_time'].apply(lambda time: int(time.split(':')[0]) + (int(time.split(':')[1]) * (1 / 60)) +\n",
    "                                            (int(time.split(':')[2]) * (1 / 3600)))\n",
    "\n",
    "COLUMN_TO_STANDARDIZE = ['duration', 'src_bytes', 'dest_bytes', 'count',\n",
    "                         'same_srv_rate', 'serror_rate', 'srv_serror_rate',\n",
    "                         'dst_host_count', 'dst_host_srv_count',\n",
    "                         'dst_host_same_src_port_rate', 'dst_host_serror_rate',\n",
    "                         'dst_host_srv_serror_rate', 'src_port_num',\n",
    "                         'dst_port_num', 'start_time']\n",
    "\n",
    "# categorical data\n",
    "COLUMN_TO_INDEX = ['ashula_detection', 'dst_ip_add', 'flag', 'ids_detection', 'label', 'malware_detection', 'protocol', 'service', 'src_ip_add']\n",
    "\n",
    "# index categorical data \n",
    "df[COLUMN_TO_INDEX] = df[COLUMN_TO_INDEX].apply(preprocessing.LabelEncoder().fit_transform)\n",
    "\n",
    "# standardize features\n",
    "df[COLUMN_TO_STANDARDIZE] = preprocessing.StandardScaler().fit_transform(df[COLUMN_TO_STANDARDIZE])\n",
    "\n",
    "# print('DataFrame shape before split: {}'.format(df.shape))\n",
    "# df = np.array_split(df, 24)\n",
    "# print('DataFrame shape after split: {}'.format(len(df)))"
   ]
  },
  {
   "cell_type": "code",
   "execution_count": 4,
   "metadata": {},
   "outputs": [
    {
     "name": "stdout",
     "output_type": "stream",
     "text": [
      "min : 0, max : 7\n",
      "min : 0, max : 4\n",
      "min : 0, max : 4\n",
      "min : 0, max : 3\n",
      "min : 0, max : 1\n",
      "min : 0, max : 1\n",
      "min : 0, max : 3\n",
      "min : 0, max : 5\n",
      "min : 0, max : 7\n",
      "min : 0, max : 0\n",
      "min : 0, max : 2\n",
      "min : 0, max : 2\n",
      "min : 0, max : 9\n",
      "min : 0, max : 6\n",
      "min : 0, max : 9\n",
      "min : 0, max : 2\n",
      "min : 0, max : 3\n"
     ]
    }
   ],
   "source": [
    "# decile binning\n",
    "COLUMN_TO_STANDARDIZE.append('service')\n",
    "COLUMN_TO_STANDARDIZE.append('flag')\n",
    "\n",
    "df = df.drop(labels=['dst_ip_add', 'src_ip_add'], axis=1)\n",
    "for index in range(len(COLUMN_TO_STANDARDIZE)):\n",
    "    df[COLUMN_TO_STANDARDIZE[index]] = pd.qcut(df[COLUMN_TO_STANDARDIZE[index]], 10, labels=False, duplicates='drop')\n",
    "    print('min : {}, max : {}'.format(df[COLUMN_TO_STANDARDIZE[index]].min(), df[COLUMN_TO_STANDARDIZE[index]].max()))\n",
    "\n",
    "data = np.array(df)\n",
    "np.save(file='processed_data.npy', arr=data)\n"
   ]
  },
  {
   "cell_type": "code",
   "execution_count": null,
   "metadata": {},
   "outputs": [],
   "source": []
  }
 ],
 "metadata": {
  "kernelspec": {
   "display_name": "Python 3",
   "language": "python",
   "name": "python3"
  },
  "language_info": {
   "codemirror_mode": {
    "name": "ipython",
    "version": 3
   },
   "file_extension": ".py",
   "mimetype": "text/x-python",
   "name": "python",
   "nbconvert_exporter": "python",
   "pygments_lexer": "ipython3",
   "version": "3.6.6"
  }
 },
 "nbformat": 4,
 "nbformat_minor": 2
}
